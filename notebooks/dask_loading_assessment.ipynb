{
 "cells": [
  {
   "cell_type": "code",
   "execution_count": null,
   "metadata": {},
   "outputs": [],
   "source": [
    "from dask.distributed import LocalCluster\n",
    "client = LocalCluster().get_client()\n",
    "client"
   ]
  },
  {
   "cell_type": "code",
   "execution_count": null,
   "metadata": {},
   "outputs": [],
   "source": [
    "# imports\n",
    "from dataclasses import dataclass, field, fields, InitVar\n",
    "\n",
    "import json\n",
    "import os\n",
    "\n",
    "import pandas as pd\n",
    "import dask.dataframe as dd \n"
   ]
  },
  {
   "cell_type": "code",
   "execution_count": null,
   "metadata": {},
   "outputs": [],
   "source": [
    "\n",
    "# define a dataclass to hold the db in memory\n",
    "# NOTE: this is uniquely for development purposes, data should be handled by a DB, to overcome memory limitations\n",
    "\n",
    "@dataclass\n",
    "class ClinicalTables:\n",
    "    person: pd.DataFrame | None = None\n",
    "    observation_period: pd.DataFrame | None = None\n",
    "    death: pd.DataFrame | None = None\n",
    "    visit_occurrence: pd.DataFrame | None = None\n",
    "    visit_detail: pd.DataFrame | None = None\n",
    "    condition_occurrence: pd.DataFrame | None = None\n",
    "    drug_exposure: pd.DataFrame | None = None\n",
    "    procedure_occurrence: pd.DataFrame | None = None\n",
    "    device_exposure:pd.DataFrame | None = None\n",
    "    measurement: pd.DataFrame | None = None\n",
    "    observation: pd.DataFrame | None = None\n",
    "    note: pd.DataFrame | None = None\n",
    "    note_nlp: pd.DataFrame | None = None\n",
    "    specimen: pd.DataFrame | None = None\n",
    "    fact_relationship: pd.DataFrame | None = None\n",
    "    \n",
    "@dataclass \n",
    "class HealthSystemTables:\n",
    "    provider: pd.DataFrame | None = None\n",
    "    care_site: pd.DataFrame | None = None\n",
    "    location: pd.DataFrame | None = None\n",
    "    \n",
    "@dataclass\n",
    "class HealthEconomicsTabels:\n",
    "    cost: pd.DataFrame | None = None\n",
    "    payer_plan_period: pd.DataFrame | None = None\n",
    "    \n",
    "@dataclass\n",
    "class StandartizedDerivedElementsTables:\n",
    "    condition_era: pd.DataFrame | None = None\n",
    "    drug_era: pd.DataFrame | None = None\n",
    "    dose_era: pd.DataFrame | None = None\n",
    "    episode: pd.DataFrame | None = None\n",
    "    episode_event: pd.DataFrame | None = None\n",
    "    cohort: pd.DataFrame | None = None\n",
    "    cohort_definition: pd.DataFrame | None = None\n",
    "\n",
    "@dataclass\n",
    "class MetadataTables:\n",
    "    metadata: pd.DataFrame | None = None\n",
    "    cdm_source: pd.DataFrame | None = None\n",
    "    \n",
    "@dataclass\n",
    "class VocabularyTables:\n",
    "    concept: pd.DataFrame | None = None\n",
    "    concept_class: pd.DataFrame | None = None\n",
    "    vocabulary: pd.DataFrame | None = None\n",
    "    source_to_concept_map: pd.DataFrame | None = None\n",
    "    domain: pd.DataFrame | None = None\n",
    "    concept_synonym: pd.DataFrame | None = None\n",
    "    concept_relationship: pd.DataFrame | None = None\n",
    "    relationship: pd.DataFrame | None = None\n",
    "    drug_strength: pd.DataFrame | None = None\n",
    "\n",
    "@dataclass\n",
    "class OMOP_data:\n",
    "    csv_data_path: InitVar[str | None] = None\n",
    "    tables_structure: InitVar[dict | None] = None\n",
    "    clinical_tables: ClinicalTables = field(default_factory=ClinicalTables)\n",
    "    health_system_tables: HealthSystemTables = field(default_factory=HealthSystemTables)\n",
    "    health_economics_tables: HealthEconomicsTabels = field(default_factory=HealthEconomicsTabels)\n",
    "    standartized_derived_elements_tables: StandartizedDerivedElementsTables = field(default_factory=StandartizedDerivedElementsTables)\n",
    "    metadata_tables: MetadataTables = field(default_factory=MetadataTables)\n",
    "    vocabulary_tables: VocabularyTables = field(default_factory=VocabularyTables)\n",
    "    \n",
    "    def __post_init__(self, csv_data_path:str, tables_structure:dict):\n",
    "        self.csv_data_path = csv_data_path\n",
    "        self.tables_structure = tables_structure\n",
    "        self._import_csv_files(tables_structure)\n",
    "    \n",
    "    def _import_csv_files(self, tables_structure:dict):\n",
    "        for field in fields(self):\n",
    "            print (\"Ingesting\", field.name+\":\")\n",
    "            for table in fields(field.type):   \n",
    "                print(\"Ingesting table\", table.name+\".\")         \n",
    "                file_path = os.path.join(self.csv_data_path, table.name+'.csv')\n",
    "                if os.path.isfile(file_path):\n",
    "                    try:\n",
    "                        df_table = dd.read_csv(file_path, \n",
    "                                            usecols=tables_structure.get(table.name).get('column_list'),\n",
    "                                            dtype=tables_structure.get(table.name).get('dtype_dict'),\n",
    "                                            parse_dates=tables_structure.get(table.name).get('parse_dates')\n",
    "                                            )\n",
    "                        setattr(getattr(self,field.name),table.name, df_table)\n",
    "                        print('Ingesting file', file_path, \"was successful.\")\n",
    "                    except Exception as e:\n",
    "                        print(e)\n",
    "                        print(f\"Unable to ingest {field.name}.{table.name} given {table.name}.csv file is off standards.\")\n",
    "                    \n",
    "                else:\n",
    "                    print(f\"Unable to ingest {field.name}.{table.name} as there is not corresponding {table.name}.csv file.\")\n",
    "                \n",
    "            print (\"\\n*****\\n\")"
   ]
  },
  {
   "cell_type": "code",
   "execution_count": null,
   "metadata": {},
   "outputs": [],
   "source": [
    "CSV_FOLDER_PATH = os.getenv('CSV_FOLDER_PATH')\n",
    "TABLE_STRUCTURE_JSON = os.getenv('TABLE_STRUCTURE_JSON')"
   ]
  },
  {
   "cell_type": "code",
   "execution_count": null,
   "metadata": {},
   "outputs": [],
   "source": [
    "def load_pandas_db(csv_folder_path:str = CSV_FOLDER_PATH, tables_structure_json :dict = TABLE_STRUCTURE_JSON) -> OMOP_data:\n",
    "     with open(tables_structure_json, 'r') as f:\n",
    "          tables_structure = json.load(f)\n",
    "     omop_db = OMOP_data(csv_data_path=csv_folder_path, tables_structure=tables_structure)\n",
    "     return omop_db"
   ]
  },
  {
   "cell_type": "code",
   "execution_count": null,
   "metadata": {},
   "outputs": [],
   "source": [
    "omop_db = load_pandas_db()"
   ]
  },
  {
   "cell_type": "code",
   "execution_count": null,
   "metadata": {},
   "outputs": [],
   "source": [
    "omop_db.clinical_tables.visit_occurrence.head()"
   ]
  },
  {
   "cell_type": "code",
   "execution_count": null,
   "metadata": {},
   "outputs": [],
   "source": [
    "# need all parsed time fields\n",
    "visit_condition_df = omop_db.clinical_tables.condition_occurrence[['condition_source_value','visit_occurrence_id','condition_end_date', 'condition_end_datetime', 'condition_start_date', 'condition_start_datetime']]\\\n",
    "    .join(\n",
    "        omop_db.clinical_tables.visit_occurrence[['visit_occurrence_id','visit_start_date','visit_end_date', 'visit_end_datetime', 'visit_start_datetime']]\\\n",
    "    .set_index('visit_occurrence_id'),\n",
    "        on='visit_occurrence_id',\n",
    "        rsuffix='_visit'\n",
    "    )"
   ]
  },
  {
   "cell_type": "code",
   "execution_count": null,
   "metadata": {},
   "outputs": [],
   "source": [
    "visit_condition_df.dask"
   ]
  },
  {
   "cell_type": "code",
   "execution_count": null,
   "metadata": {},
   "outputs": [],
   "source": [
    "os.environ[\"PATH\"] += os.pathsep + \"C:/Program Files/Graphviz/bin/\""
   ]
  },
  {
   "cell_type": "code",
   "execution_count": null,
   "metadata": {},
   "outputs": [],
   "source": [
    "visit_condition_df.visualize()"
   ]
  },
  {
   "cell_type": "code",
   "execution_count": null,
   "metadata": {},
   "outputs": [],
   "source": [
    "with open(TABLE_STRUCTURE_JSON, 'r') as f:\n",
    "        tables_structure = json.load(f)"
   ]
  },
  {
   "cell_type": "code",
   "execution_count": null,
   "metadata": {},
   "outputs": [],
   "source": [
    "tables_structure"
   ]
  },
  {
   "cell_type": "code",
   "execution_count": null,
   "metadata": {},
   "outputs": [],
   "source": [
    "tables_structure['drug_exposure']"
   ]
  },
  {
   "cell_type": "code",
   "execution_count": null,
   "metadata": {},
   "outputs": [],
   "source": []
  },
  {
   "cell_type": "code",
   "execution_count": null,
   "metadata": {},
   "outputs": [],
   "source": [
    "vc_df = visit_condition_df.compute().drop(['condition_end_date', 'condition_end_datetime', 'condition_start_date', 'condition_start_datetime', 'visit_end_date', 'visit_end_datetime', 'visit_start_datetime'],axis=1)"
   ]
  },
  {
   "cell_type": "code",
   "execution_count": null,
   "metadata": {},
   "outputs": [],
   "source": [
    "vc_df.dtypes"
   ]
  },
  {
   "cell_type": "code",
   "execution_count": null,
   "metadata": {},
   "outputs": [],
   "source": []
  }
 ],
 "metadata": {
  "kernelspec": {
   "display_name": "omop",
   "language": "python",
   "name": "python3"
  },
  "language_info": {
   "codemirror_mode": {
    "name": "ipython",
    "version": 3
   },
   "file_extension": ".py",
   "mimetype": "text/x-python",
   "name": "python",
   "nbconvert_exporter": "python",
   "pygments_lexer": "ipython3",
   "version": "3.11.8"
  }
 },
 "nbformat": 4,
 "nbformat_minor": 2
}
