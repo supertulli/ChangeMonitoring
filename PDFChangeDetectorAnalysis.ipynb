{
  "cells": [
    {
      "cell_type": "markdown",
      "metadata": {
        "colab_type": "text",
        "id": "view-in-github"
      },
      "source": [
        "<a href=\"https://colab.research.google.com/github/supertulli/ChangeMonitoring/blob/main/PDFChangeDetectorAnalysis.ipynb\" target=\"_parent\"><img src=\"https://colab.research.google.com/assets/colab-badge.svg\" alt=\"Open In Colab\"/></a>"
      ]
    },
    {
      "cell_type": "code",
      "execution_count": null,
      "metadata": {
        "colab": {
          "base_uri": "https://localhost:8080/"
        },
        "id": "-vCKOO_f4h16",
        "outputId": "fc8a0413-b69d-4d8f-d044-3003d8ee5228"
      },
      "outputs": [],
      "source": [
        "!git clone https://github.com/supertulli/ChangeMonitoring.git"
      ]
    },
    {
      "cell_type": "code",
      "execution_count": null,
      "metadata": {
        "colab": {
          "base_uri": "https://localhost:8080/"
        },
        "id": "LA4OErJQ_FPT",
        "outputId": "0419bf49-2e50-4f42-f100-3475535667f4"
      },
      "outputs": [],
      "source": [
        "%cd ChangeMonitoring"
      ]
    },
    {
      "cell_type": "code",
      "execution_count": null,
      "metadata": {
        "colab": {
          "base_uri": "https://localhost:8080/"
        },
        "id": "WACQEfVP_WLr",
        "outputId": "70062c5b-dc32-4b9e-e5b5-f02eb8d16c86"
      },
      "outputs": [],
      "source": [
        "!pip install -r requirements.txt"
      ]
    },
    {
      "cell_type": "code",
      "execution_count": null,
      "metadata": {
        "id": "O0Rq15ztAYYC"
      },
      "outputs": [],
      "source": [
        "from google.colab import output\n",
        "output.enable_custom_widget_manager()"
      ]
    },
    {
      "cell_type": "code",
      "execution_count": 1,
      "metadata": {
        "id": "8F1WGpgW-YX-"
      },
      "outputs": [],
      "source": [
        "import matplotlib.pyplot as plt\n",
        "from matplotlib.widgets import Button, Slider\n",
        "\n",
        "from scipy.stats import beta\n",
        "import numpy as np\n"
      ]
    },
    {
      "cell_type": "code",
      "execution_count": 2,
      "metadata": {
        "id": "7kYRweTU-YYA"
      },
      "outputs": [],
      "source": [
        "%matplotlib ipympl\n",
        "\n",
        "from re import X\n",
        "\n",
        "\n",
        "def plot_slider_animation(alpha_estimates_list,\n",
        "                        beta_estimates_list,\n",
        "                        min_u1s_list,\n",
        "                        min_u2s_list,\n",
        "                        min_u3s_list,\n",
        "                        current_u1s_list,\n",
        "                        first_frame, last_frame,\n",
        "                        y_min=0, y_max=100, x_min=0, x_max=0.3):\n",
        "\n",
        "    framed_time=slice(first_frame, last_frame+1)\n",
        "\n",
        "    frame_data_list = list(zip(alpha_estimates_list[framed_time], beta_estimates_list[framed_time],\n",
        "                min_u1s_list[framed_time], min_u2s_list[framed_time], min_u3s_list[framed_time],\n",
        "                current_u1s_list[framed_time],\n",
        "                range(first_frame, last_frame+1)))\n",
        "\n",
        "\n",
        "\n",
        "    a_process, b_process, min_u1, min_u2, min_u3, current_u1, start_time = frame_data_list.pop(0)\n",
        "    end_time = frame_data_list[-1][-1]\n",
        "\n",
        "    fig, ax = plt.subplots(figsize=(15,7))\n",
        "\n",
        "    if (a_process is not None) and (b_process is not None):\n",
        "        x_process = np.linspace(beta.ppf(0.001, a_process, b_process),beta.ppf(0.999, a_process, b_process), 1000)\n",
        "        y_process = beta.pdf(x_process, a_process, b_process)\n",
        "        line_process = ax.plot(x_process, y_process, 'b-', label='distance do reference distribution')[0]\n",
        "    else:\n",
        "        line_process = ax.plot([], [], 'b-', label='distance to reference distribution')[0]\n",
        "\n",
        "    if current_u1 is not None:\n",
        "        u1_process = ax.axvline(current_u1, ymin=0, ymax= beta.pdf(current_u1, a_process, b_process), color=\"blue\", linestyle=\"dashdot\", label='current u1')\n",
        "    else:\n",
        "        u1_process = ax.axvline(0, ymin=0, ymax= 0, color=\"blue\", linestyle=\"dashdot\")\n",
        "\n",
        "    if min_u1 is not None:\n",
        "        u1_marker = ax.axvline(min_u1, ymin=0, ymax= beta.pdf(min_u1, a_process, b_process), color=\"green\", alpha=0.5, label=\"u1_threshold\")\n",
        "        u2_marker = ax.axvline(min_u2, ymin=0, ymax= beta.pdf(min_u2, a_process, b_process), color=\"orange\", alpha=0.5, label=\"u2_threshold\")\n",
        "        u3_marker = ax.axvline(min_u3, ymin=0, ymax= beta.pdf(min_u3, a_process, b_process), color=\"red\", alpha=0.5, label=\"u3_threshold\")\n",
        "    else:\n",
        "        u1_marker = ax.axvline(0, ymin=0, ymax= 0, color=\"green\", alpha=0.5, label=\"u1_threshold\")\n",
        "        u2_marker = ax.axvline(0, ymin=0, ymax= 0, color=\"orange\", alpha=0.5, label=\"u2_threshold\")\n",
        "        u3_marker = ax.axvline(0, ymin=0, ymax= 0, color=\"red\", alpha=0.5, label=\"u3_threshold\")\n",
        "    ax.set(xlim=(x_min, x_max), xlabel='Values of Random Variable X (0, 1)',\n",
        "        ylim=(y_min,y_max), ylabel='Probability density', title='Beta Distribution of pdf distances to reference distribution')\n",
        "    time_legend = ax.text(0.9, 0.95, f'time: {start_time}', ha='left', va='top', transform=ax.transAxes,\n",
        "                    bbox=dict(facecolor='none', edgecolor='black', boxstyle='round,pad=0.5'))\n",
        "    ax.legend(loc='lower right')\n",
        "\n",
        "    # adjust the main plot to make room for the sliders\n",
        "    fig.subplots_adjust(left=0.25, bottom=0.25)\n",
        "\n",
        "    # Make a horizontal slider to control the frequency.\n",
        "    axfreq = fig.add_axes([0.25, 0.1, 0.65, 0.03])\n",
        "    freq_slider = Slider(\n",
        "        ax=axfreq,\n",
        "        label='Time step',\n",
        "        valmin=start_time,\n",
        "        valmax=end_time,\n",
        "        valinit=start_time,\n",
        "    )\n",
        "\n",
        "    # Plot the beta distribution\n",
        "    def update(val):\n",
        "\n",
        "        idx = max(0,int(freq_slider.val)-start_time-1)\n",
        "        print(idx)\n",
        "        a_process, b_process, min_u1, min_u2, min_u3, current_u1, time = frame_data_list[idx]\n",
        "\n",
        "        if (a_process is not None) and (b_process is not None):\n",
        "            x_process = np.linspace(beta.ppf(0.001, a_process, b_process),beta.ppf(0.999, a_process, b_process), 1000)\n",
        "            y_process = beta.pdf(x_process, a_process, b_process)\n",
        "            line_process.set_data(x_process, y_process)\n",
        "        else:\n",
        "            line_process.set_data([], [])\n",
        "\n",
        "        if current_u1 is not None:\n",
        "            u1_process.set_xdata([current_u1, current_u1])\n",
        "            u1_process.set_ydata([0,beta.pdf(current_u1, a_process, b_process)])\n",
        "        else:\n",
        "            u1_process.set_xdata([0,0])\n",
        "            u1_process.set_ydata([0,0])\n",
        "\n",
        "        if min_u1 is not None:\n",
        "            u1_marker.set_xdata([min_u1,min_u1])\n",
        "            u1_marker.set_ydata([0,beta.pdf(min_u1, a_process, b_process)])\n",
        "            u2_marker.set_xdata([min_u2,min_u2])\n",
        "            u2_marker.set_ydata([0,beta.pdf(min_u1, a_process, b_process)])\n",
        "            u3_marker.set_xdata([min_u3,min_u3])\n",
        "            u3_marker.set_ydata([0,beta.pdf(min_u1, a_process, b_process)])\n",
        "        else:\n",
        "            u1_marker.set_xdata([0,0])\n",
        "            u1_marker.set_ydata([0,0])\n",
        "            u2_marker.set_xdata([0,0])\n",
        "            u2_marker.set_ydata([0,0])\n",
        "            u3_marker.set_xdata([0,0])\n",
        "            u3_marker.set_ydata([0,0])\n",
        "\n",
        "        time_legend.set_text(f'time: {time}')\n",
        "\n",
        "        fig.canvas.draw_idle()\n",
        "\n",
        "    # register the update function with each slider\n",
        "    freq_slider.on_changed(update)\n",
        "    # Create a `matplotlib.widgets.Button` to reset the sliders to initial values.\n",
        "    resetax = fig.add_axes([0.8, 0.025, 0.1, 0.04])\n",
        "    button = Button(resetax, 'Reset', hovercolor='0.975')\n",
        "\n",
        "    def reset(event):\n",
        "        freq_slider.reset()\n",
        "\n",
        "    button.on_clicked(reset)\n",
        "\n",
        "    plt.show()"
      ]
    },
    {
      "cell_type": "code",
      "execution_count": 3,
      "metadata": {
        "id": "1qiBeT8y-YYB"
      },
      "outputs": [],
      "source": [
        "from random import gauss\n",
        "\n",
        "import numpy as np\n",
        "import pandas as pd\n",
        "import matplotlib.pyplot as plt"
      ]
    },
    {
      "cell_type": "code",
      "execution_count": 4,
      "metadata": {
        "id": "zSSIS5vR-YYC"
      },
      "outputs": [],
      "source": [
        "def gaussian_histogram(mu:float, sigma:float, sample_size:int):\n",
        "    bin_edges = np.linspace(-10,10,21)\n",
        "    histogram, _ = np.histogram([gauss(mu, sigma) for _ in range(sample_size)], bins=bin_edges, density=True)\n",
        "    return pd.Series(histogram)"
      ]
    },
    {
      "cell_type": "code",
      "execution_count": 5,
      "metadata": {},
      "outputs": [],
      "source": [
        "############################################################\n",
        "## Edit this cell to manipulate the test on the detector: ##\n",
        "############################################################\n",
        "\n",
        "# sampling parameters\n",
        "histogram_sample_size = 3000\n",
        "\n",
        "# base process parameters\n",
        "base_mu = 2\n",
        "base_var = 1\n",
        "base_length = 300 # in time instances\n",
        "\n",
        "# new process parameters\n",
        "new_mu = 2.1\n",
        "new_var = 1\n",
        "new_length = 200\n",
        "\n",
        "# detector parameters\n",
        "ref_size = 30\n",
        "monitor_size = 50\n",
        "method = \"window\"\n",
        "\n",
        "#slider parameters\n",
        "first_frame = 275\n",
        "last_frame = 450\n",
        "y_max = 250\n",
        "x_max = 0.05"
      ]
    },
    {
      "cell_type": "code",
      "execution_count": null,
      "metadata": {},
      "outputs": [],
      "source": [
        "from src.change_detector.corrected_change_detector import PDFChangeDetector\n",
        "\n",
        "change_detector = PDFChangeDetector(reference_size=ref_size,monitor_size=monitor_size,method=method)\n",
        "\n",
        "detection_status_list = []\n",
        "alpha_estimates_list = []\n",
        "beta_estimates_list = []\n",
        "u1_min_list = []\n",
        "u2_min_list = []\n",
        "u3_min_list = []\n",
        "current_u1_list = []\n",
        "\n",
        "for i in range(base_length):\n",
        "    new_pdf = gaussian_histogram(base_mu, base_var, sample_size=histogram_sample_size)\n",
        "    detect_response = change_detector.detect_change(new_pdf)\n",
        "    \n",
        "    detection_status_list.append(detect_response.state.name)\n",
        "    alpha_estimates_list.append(detect_response.alpha_estimate)\n",
        "    beta_estimates_list.append(detect_response.beta_estimate)\n",
        "    u1_min_list.append(detect_response.min_u1)\n",
        "    u2_min_list.append(detect_response.min_u2)\n",
        "    u3_min_list.append(detect_response.min_u3)\n",
        "    current_u1_list.append(detect_response.current_u1)\n",
        "    \n",
        "    print(\"Status: \", detect_response.state.name, \n",
        "        \"| Alpha :\", detect_response.alpha_estimate, \n",
        "        \"| Beta\", detect_response.beta_estimate, \n",
        "        \"\\n***\\n\")\n",
        "\n",
        "\n",
        "for i in range(new_length):\n",
        "    new_pdf = gaussian_histogram(new_mu, new_var, sample_size=histogram_sample_size)\n",
        "    detect_response = change_detector.detect_change(new_pdf)\n",
        "    \n",
        "    detection_status_list.append(detect_response.state.name)\n",
        "    alpha_estimates_list.append(detect_response.alpha_estimate)\n",
        "    beta_estimates_list.append(detect_response.beta_estimate)\n",
        "    u1_min_list.append(detect_response.min_u1)\n",
        "    u2_min_list.append(detect_response.min_u2)\n",
        "    u3_min_list.append(detect_response.min_u3)\n",
        "    current_u1_list.append(detect_response.current_u1)\n",
        "    \n",
        "    print(\"Status: \", detect_response.state.name, \n",
        "        \"| Alpha :\", detect_response.alpha_estimate, \n",
        "        \"| Beta\", detect_response.beta_estimate, \n",
        "        \"\\n***\\n\")"
      ]
    },
    {
      "cell_type": "code",
      "execution_count": null,
      "metadata": {
        "id": "RgWr4wAv-YYE"
      },
      "outputs": [],
      "source": [
        "data = pd.DataFrame([detection_status_list, alpha_estimates_list, beta_estimates_list, u1_min_list, u2_min_list, u3_min_list, current_u1_list]).T\n",
        "data"
      ]
    },
    {
      "cell_type": "code",
      "execution_count": null,
      "metadata": {
        "colab": {
          "base_uri": "https://localhost:8080/",
          "height": 789,
          "referenced_widgets": [
            "8cf6a1c34cf1476f8c989e2fbbecf247",
            "2a65b1e68deb470392706dfdbdd74176",
            "6cc7ad1689d8465281837f4d298f1f0a",
            "df454e8499484dbabaf991984d382bbf"
          ]
        },
        "id": "hFUj6uit-YYE",
        "outputId": "6588dc74-1f73-4d5f-fb44-5cb89eddd73e"
      },
      "outputs": [],
      "source": [
        "plot_slider_animation(alpha_estimates_list, beta_estimates_list, u1_min_list, u2_min_list, u3_min_list, current_u1_list, first_frame=first_frame, last_frame=last_frame, y_max=y_max, x_max=x_max)"
      ]
    }
  ],
  "metadata": {
    "colab": {
      "authorship_tag": "ABX9TyNJ3dAv9+keVWGwH2ump2Cb",
      "include_colab_link": true,
      "provenance": []
    },
    "kernelspec": {
      "display_name": "omop",
      "language": "python",
      "name": "python3"
    },
    "language_info": {
      "codemirror_mode": {
        "name": "ipython",
        "version": 3
      },
      "file_extension": ".py",
      "mimetype": "text/x-python",
      "name": "python",
      "nbconvert_exporter": "python",
      "pygments_lexer": "ipython3",
      "version": "3.11.8"
    },
    "widgets": {
      "application/vnd.jupyter.widget-state+json": {
        "2a65b1e68deb470392706dfdbdd74176": {
          "model_module": "@jupyter-widgets/base",
          "model_module_version": "1.2.0",
          "model_name": "LayoutModel",
          "state": {
            "_model_module": "@jupyter-widgets/base",
            "_model_module_version": "1.2.0",
            "_model_name": "LayoutModel",
            "_view_count": null,
            "_view_module": "@jupyter-widgets/base",
            "_view_module_version": "1.2.0",
            "_view_name": "LayoutView",
            "align_content": null,
            "align_items": null,
            "align_self": null,
            "border": null,
            "bottom": null,
            "display": null,
            "flex": null,
            "flex_flow": null,
            "grid_area": null,
            "grid_auto_columns": null,
            "grid_auto_flow": null,
            "grid_auto_rows": null,
            "grid_column": null,
            "grid_gap": null,
            "grid_row": null,
            "grid_template_areas": null,
            "grid_template_columns": null,
            "grid_template_rows": null,
            "height": null,
            "justify_content": null,
            "justify_items": null,
            "left": null,
            "margin": null,
            "max_height": null,
            "max_width": null,
            "min_height": null,
            "min_width": null,
            "object_fit": null,
            "object_position": null,
            "order": null,
            "overflow": null,
            "overflow_x": null,
            "overflow_y": null,
            "padding": null,
            "right": null,
            "top": null,
            "visibility": null,
            "width": null
          }
        },
        "6cc7ad1689d8465281837f4d298f1f0a": {
          "model_module": "jupyter-matplotlib",
          "model_module_version": "^0.11",
          "model_name": "ToolbarModel",
          "state": {
            "_current_action": "",
            "_dom_classes": [],
            "_model_module": "jupyter-matplotlib",
            "_model_module_version": "^0.11",
            "_model_name": "ToolbarModel",
            "_view_count": null,
            "_view_module": "jupyter-matplotlib",
            "_view_module_version": "^0.11",
            "_view_name": "ToolbarView",
            "button_style": "",
            "collapsed": true,
            "layout": "IPY_MODEL_df454e8499484dbabaf991984d382bbf",
            "orientation": "vertical",
            "toolitems": [
              [
                "Home",
                "Reset original view",
                "home",
                "home"
              ],
              [
                "Back",
                "Back to previous view",
                "arrow-left",
                "back"
              ],
              [
                "Forward",
                "Forward to next view",
                "arrow-right",
                "forward"
              ],
              [
                "Pan",
                "Left button pans, Right button zooms\nx/y fixes axis, CTRL fixes aspect",
                "arrows",
                "pan"
              ],
              [
                "Zoom",
                "Zoom to rectangle\nx/y fixes axis",
                "square-o",
                "zoom"
              ],
              [
                "Download",
                "Download plot",
                "floppy-o",
                "save_figure"
              ]
            ]
          }
        },
        "8cf6a1c34cf1476f8c989e2fbbecf247": {
          "model_module": "jupyter-matplotlib",
          "model_module_version": "^0.11",
          "model_name": "MPLCanvasModel",
          "state": {
            "_cursor": "default",
            "_data_url": "data:image/png;base64,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",
            "_dom_classes": [],
            "_figure_label": "Figure 2",
            "_image_mode": "diff",
            "_message": "",
            "_model_module": "jupyter-matplotlib",
            "_model_module_version": "^0.11",
            "_model_name": "MPLCanvasModel",
            "_rubberband_height": 0,
            "_rubberband_width": 0,
            "_rubberband_x": 0,
            "_rubberband_y": 0,
            "_size": [
              1500,
              700
            ],
            "_view_count": null,
            "_view_module": "jupyter-matplotlib",
            "_view_module_version": "^0.11",
            "_view_name": "MPLCanvasView",
            "capture_scroll": false,
            "footer_visible": true,
            "header_visible": true,
            "layout": "IPY_MODEL_2a65b1e68deb470392706dfdbdd74176",
            "pan_zoom_throttle": 33,
            "resizable": true,
            "toolbar": "IPY_MODEL_6cc7ad1689d8465281837f4d298f1f0a",
            "toolbar_position": "left",
            "toolbar_visible": "fade-in-fade-out"
          }
        },
        "df454e8499484dbabaf991984d382bbf": {
          "model_module": "@jupyter-widgets/base",
          "model_module_version": "1.2.0",
          "model_name": "LayoutModel",
          "state": {
            "_model_module": "@jupyter-widgets/base",
            "_model_module_version": "1.2.0",
            "_model_name": "LayoutModel",
            "_view_count": null,
            "_view_module": "@jupyter-widgets/base",
            "_view_module_version": "1.2.0",
            "_view_name": "LayoutView",
            "align_content": null,
            "align_items": null,
            "align_self": null,
            "border": null,
            "bottom": null,
            "display": null,
            "flex": null,
            "flex_flow": null,
            "grid_area": null,
            "grid_auto_columns": null,
            "grid_auto_flow": null,
            "grid_auto_rows": null,
            "grid_column": null,
            "grid_gap": null,
            "grid_row": null,
            "grid_template_areas": null,
            "grid_template_columns": null,
            "grid_template_rows": null,
            "height": null,
            "justify_content": null,
            "justify_items": null,
            "left": null,
            "margin": null,
            "max_height": null,
            "max_width": null,
            "min_height": null,
            "min_width": null,
            "object_fit": null,
            "object_position": null,
            "order": null,
            "overflow": null,
            "overflow_x": null,
            "overflow_y": null,
            "padding": null,
            "right": null,
            "top": null,
            "visibility": null,
            "width": null
          }
        }
      }
    }
  },
  "nbformat": 4,
  "nbformat_minor": 0
}
